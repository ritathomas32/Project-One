{
 "cells": [
  {
   "cell_type": "markdown",
   "id": "cec4c1f0-7fae-4c03-aeeb-df351dff0ec8",
   "metadata": {},
   "source": [
    "Impact of Federal Monetary Policy on Investments"
   ]
  },
  {
   "cell_type": "code",
   "execution_count": 161,
   "id": "895036aa-3744-4399-a257-cbadf1ed20da",
   "metadata": {},
   "outputs": [],
   "source": [
    "# Initial imports\n",
    "import os\n",
    "import requests\n",
    "import numpy as np\n",
    "import pandas as pd\n",
    "from dotenv import load_dotenv\n",
    "import alpaca_trade_api as tradeapi\n",
    "import json\n",
    "\n",
    "%matplotlib inline"
   ]
  },
  {
   "cell_type": "code",
   "execution_count": 162,
   "id": "973819ba-8564-4db5-bdda-8c6adb6f9e1d",
   "metadata": {},
   "outputs": [
    {
     "data": {
      "text/html": [
       "<div>\n",
       "<style scoped>\n",
       "    .dataframe tbody tr th:only-of-type {\n",
       "        vertical-align: middle;\n",
       "    }\n",
       "\n",
       "    .dataframe tbody tr th {\n",
       "        vertical-align: top;\n",
       "    }\n",
       "\n",
       "    .dataframe thead th {\n",
       "        text-align: right;\n",
       "    }\n",
       "</style>\n",
       "<table border=\"1\" class=\"dataframe\">\n",
       "  <thead>\n",
       "    <tr style=\"text-align: right;\">\n",
       "      <th></th>\n",
       "      <th>shares</th>\n",
       "    </tr>\n",
       "  </thead>\n",
       "  <tbody>\n",
       "    <tr>\n",
       "      <th>NDAQ</th>\n",
       "      <td>200</td>\n",
       "    </tr>\n",
       "  </tbody>\n",
       "</table>\n",
       "</div>"
      ],
      "text/plain": [
       "      shares\n",
       "NDAQ     200"
      ]
     },
     "execution_count": 162,
     "metadata": {},
     "output_type": "execute_result"
    }
   ],
   "source": [
    "# Set current amount of shares data\n",
    "portfolio_data = {\n",
    "    \"shares\": [200]\n",
    "}\n",
    "\n",
    "# Set the tickers\n",
    "tickers = [\"NDAQ\"]\n",
    "\n",
    "# Create the shares DataFrame with `tickers` as index\n",
    "df_shares = pd.DataFrame(portfolio_data, index=tickers)\n",
    "\n",
    "# Display shares data\n",
    "df_shares"
   ]
  },
  {
   "cell_type": "code",
   "execution_count": 163,
   "id": "48337a35-09f4-4c35-ac4f-50e8e57ebe30",
   "metadata": {},
   "outputs": [
    {
     "data": {
      "text/plain": [
       "True"
      ]
     },
     "execution_count": 163,
     "metadata": {},
     "output_type": "execute_result"
    }
   ],
   "source": [
    "# Load .env environment variables\n",
    "load_dotenv()"
   ]
  },
  {
   "cell_type": "code",
   "execution_count": 164,
   "id": "962fec20-8ac9-4c54-9cf2-815bb32c90d6",
   "metadata": {},
   "outputs": [],
   "source": [
    " # Set Alpaca API key and secret\n",
    "alpaca_api_key = os.getenv(\"ALPACA_API_KEY\")\n",
    "alpaca_secret_key = os.getenv(\"ALPACA_SECRET_KEY\")\n",
    "fred_api_key = os.getenv(\"FRED_API_KEY\")"
   ]
  },
  {
   "cell_type": "code",
   "execution_count": 165,
   "id": "f9f9d1ed-c3dd-4456-b025-b45fc80f1aa1",
   "metadata": {},
   "outputs": [
    {
     "name": "stdout",
     "output_type": "stream",
     "text": [
      "Alpaca Key type: <class 'str'>\n",
      "Alpaca Secret Key type: <class 'str'>\n",
      "Fred Key type: <class 'str'>\n"
     ]
    }
   ],
   "source": [
    "# Verify that Alpaca key and secret were correctly loaded\n",
    "print(f\"Alpaca Key type: {type(alpaca_api_key)}\")\n",
    "print(f\"Alpaca Secret Key type: {type(alpaca_secret_key)}\")\n",
    "print(f\"Fred Key type: {type(fred_api_key)}\")"
   ]
  },
  {
   "cell_type": "code",
   "execution_count": 166,
   "id": "ecf032cd-7c23-4ed6-937f-f34427fcc1ad",
   "metadata": {},
   "outputs": [],
   "source": [
    "# Create the Alpaca API object\n",
    "alpaca = tradeapi.REST(\n",
    "    alpaca_api_key,\n",
    "    alpaca_secret_key,\n",
    "    api_version=\"v2\")"
   ]
  },
  {
   "cell_type": "code",
   "execution_count": 167,
   "id": "e41f2829-069b-48be-8ba7-9262d5bcacd8",
   "metadata": {},
   "outputs": [],
   "source": [
    "# Format current date as ISO format\n",
    "today = pd.Timestamp(\"2022-08-09\", tz=\"America/New_York\").isoformat() \n",
    "start_date = pd.Timestamp(\"2000-08-09\", tz=\"America/New_York\").isoformat() "
   ]
  },
  {
   "cell_type": "code",
   "execution_count": 168,
   "id": "a785028b-4466-4c5d-aab1-5cd1e3990903",
   "metadata": {},
   "outputs": [],
   "source": [
    "# Set timeframe to one day ('1Day') for the Alpaca API\n",
    "timeframe = \"1Month\""
   ]
  },
  {
   "cell_type": "code",
   "execution_count": 169,
   "id": "c0daf94d-fa7d-4453-92aa-26e521c31cf5",
   "metadata": {},
   "outputs": [
    {
     "data": {
      "text/html": [
       "<div>\n",
       "<style scoped>\n",
       "    .dataframe tbody tr th:only-of-type {\n",
       "        vertical-align: middle;\n",
       "    }\n",
       "\n",
       "    .dataframe tbody tr th {\n",
       "        vertical-align: top;\n",
       "    }\n",
       "\n",
       "    .dataframe thead th {\n",
       "        text-align: right;\n",
       "    }\n",
       "</style>\n",
       "<table border=\"1\" class=\"dataframe\">\n",
       "  <thead>\n",
       "    <tr style=\"text-align: right;\">\n",
       "      <th></th>\n",
       "      <th>open</th>\n",
       "      <th>high</th>\n",
       "      <th>low</th>\n",
       "      <th>close</th>\n",
       "      <th>volume</th>\n",
       "      <th>trade_count</th>\n",
       "      <th>vwap</th>\n",
       "      <th>symbol</th>\n",
       "    </tr>\n",
       "    <tr>\n",
       "      <th>timestamp</th>\n",
       "      <th></th>\n",
       "      <th></th>\n",
       "      <th></th>\n",
       "      <th></th>\n",
       "      <th></th>\n",
       "      <th></th>\n",
       "      <th></th>\n",
       "      <th></th>\n",
       "    </tr>\n",
       "  </thead>\n",
       "  <tbody>\n",
       "    <tr>\n",
       "      <th>2015-12-01 05:00:00+00:00</th>\n",
       "      <td>58.89</td>\n",
       "      <td>60.1097</td>\n",
       "      <td>54.62</td>\n",
       "      <td>58.17</td>\n",
       "      <td>24924152</td>\n",
       "      <td>241969</td>\n",
       "      <td>57.258672</td>\n",
       "      <td>NDAQ</td>\n",
       "    </tr>\n",
       "    <tr>\n",
       "      <th>2016-01-01 05:00:00+00:00</th>\n",
       "      <td>56.90</td>\n",
       "      <td>62.3600</td>\n",
       "      <td>55.27</td>\n",
       "      <td>62.00</td>\n",
       "      <td>27792434</td>\n",
       "      <td>263456</td>\n",
       "      <td>57.589541</td>\n",
       "      <td>NDAQ</td>\n",
       "    </tr>\n",
       "    <tr>\n",
       "      <th>2016-02-01 05:00:00+00:00</th>\n",
       "      <td>61.96</td>\n",
       "      <td>65.1000</td>\n",
       "      <td>57.85</td>\n",
       "      <td>63.29</td>\n",
       "      <td>27774709</td>\n",
       "      <td>260062</td>\n",
       "      <td>61.602408</td>\n",
       "      <td>NDAQ</td>\n",
       "    </tr>\n",
       "    <tr>\n",
       "      <th>2016-03-01 05:00:00+00:00</th>\n",
       "      <td>63.82</td>\n",
       "      <td>67.6050</td>\n",
       "      <td>63.11</td>\n",
       "      <td>66.38</td>\n",
       "      <td>33361536</td>\n",
       "      <td>295673</td>\n",
       "      <td>65.046414</td>\n",
       "      <td>NDAQ</td>\n",
       "    </tr>\n",
       "    <tr>\n",
       "      <th>2016-04-01 04:00:00+00:00</th>\n",
       "      <td>66.12</td>\n",
       "      <td>66.6600</td>\n",
       "      <td>61.25</td>\n",
       "      <td>61.71</td>\n",
       "      <td>21687664</td>\n",
       "      <td>207101</td>\n",
       "      <td>64.105503</td>\n",
       "      <td>NDAQ</td>\n",
       "    </tr>\n",
       "    <tr>\n",
       "      <th>...</th>\n",
       "      <td>...</td>\n",
       "      <td>...</td>\n",
       "      <td>...</td>\n",
       "      <td>...</td>\n",
       "      <td>...</td>\n",
       "      <td>...</td>\n",
       "      <td>...</td>\n",
       "      <td>...</td>\n",
       "    </tr>\n",
       "    <tr>\n",
       "      <th>2022-04-01 04:00:00+00:00</th>\n",
       "      <td>179.82</td>\n",
       "      <td>184.6850</td>\n",
       "      <td>157.06</td>\n",
       "      <td>157.37</td>\n",
       "      <td>17194666</td>\n",
       "      <td>393411</td>\n",
       "      <td>172.632619</td>\n",
       "      <td>NDAQ</td>\n",
       "    </tr>\n",
       "    <tr>\n",
       "      <th>2022-05-01 04:00:00+00:00</th>\n",
       "      <td>157.25</td>\n",
       "      <td>160.4000</td>\n",
       "      <td>140.31</td>\n",
       "      <td>155.26</td>\n",
       "      <td>19978077</td>\n",
       "      <td>445028</td>\n",
       "      <td>149.727956</td>\n",
       "      <td>NDAQ</td>\n",
       "    </tr>\n",
       "    <tr>\n",
       "      <th>2022-06-01 04:00:00+00:00</th>\n",
       "      <td>155.44</td>\n",
       "      <td>160.0000</td>\n",
       "      <td>144.18</td>\n",
       "      <td>152.54</td>\n",
       "      <td>21416809</td>\n",
       "      <td>449449</td>\n",
       "      <td>152.290608</td>\n",
       "      <td>NDAQ</td>\n",
       "    </tr>\n",
       "    <tr>\n",
       "      <th>2022-07-01 04:00:00+00:00</th>\n",
       "      <td>152.72</td>\n",
       "      <td>181.3400</td>\n",
       "      <td>151.54</td>\n",
       "      <td>180.90</td>\n",
       "      <td>18134721</td>\n",
       "      <td>420227</td>\n",
       "      <td>164.826883</td>\n",
       "      <td>NDAQ</td>\n",
       "    </tr>\n",
       "    <tr>\n",
       "      <th>2022-08-01 04:00:00+00:00</th>\n",
       "      <td>179.28</td>\n",
       "      <td>183.9600</td>\n",
       "      <td>177.19</td>\n",
       "      <td>183.17</td>\n",
       "      <td>3854913</td>\n",
       "      <td>113133</td>\n",
       "      <td>180.738462</td>\n",
       "      <td>NDAQ</td>\n",
       "    </tr>\n",
       "  </tbody>\n",
       "</table>\n",
       "<p>81 rows × 8 columns</p>\n",
       "</div>"
      ],
      "text/plain": [
       "                             open      high     low   close    volume  \\\n",
       "timestamp                                                               \n",
       "2015-12-01 05:00:00+00:00   58.89   60.1097   54.62   58.17  24924152   \n",
       "2016-01-01 05:00:00+00:00   56.90   62.3600   55.27   62.00  27792434   \n",
       "2016-02-01 05:00:00+00:00   61.96   65.1000   57.85   63.29  27774709   \n",
       "2016-03-01 05:00:00+00:00   63.82   67.6050   63.11   66.38  33361536   \n",
       "2016-04-01 04:00:00+00:00   66.12   66.6600   61.25   61.71  21687664   \n",
       "...                           ...       ...     ...     ...       ...   \n",
       "2022-04-01 04:00:00+00:00  179.82  184.6850  157.06  157.37  17194666   \n",
       "2022-05-01 04:00:00+00:00  157.25  160.4000  140.31  155.26  19978077   \n",
       "2022-06-01 04:00:00+00:00  155.44  160.0000  144.18  152.54  21416809   \n",
       "2022-07-01 04:00:00+00:00  152.72  181.3400  151.54  180.90  18134721   \n",
       "2022-08-01 04:00:00+00:00  179.28  183.9600  177.19  183.17   3854913   \n",
       "\n",
       "                           trade_count        vwap symbol  \n",
       "timestamp                                                  \n",
       "2015-12-01 05:00:00+00:00       241969   57.258672   NDAQ  \n",
       "2016-01-01 05:00:00+00:00       263456   57.589541   NDAQ  \n",
       "2016-02-01 05:00:00+00:00       260062   61.602408   NDAQ  \n",
       "2016-03-01 05:00:00+00:00       295673   65.046414   NDAQ  \n",
       "2016-04-01 04:00:00+00:00       207101   64.105503   NDAQ  \n",
       "...                                ...         ...    ...  \n",
       "2022-04-01 04:00:00+00:00       393411  172.632619   NDAQ  \n",
       "2022-05-01 04:00:00+00:00       445028  149.727956   NDAQ  \n",
       "2022-06-01 04:00:00+00:00       449449  152.290608   NDAQ  \n",
       "2022-07-01 04:00:00+00:00       420227  164.826883   NDAQ  \n",
       "2022-08-01 04:00:00+00:00       113133  180.738462   NDAQ  \n",
       "\n",
       "[81 rows x 8 columns]"
      ]
     },
     "execution_count": 169,
     "metadata": {},
     "output_type": "execute_result"
    }
   ],
   "source": [
    "# Get current price data for S&P500\n",
    "df_portfolio = alpaca.get_bars(\n",
    "    tickers,\n",
    "    timeframe,\n",
    "    start = start_date,\n",
    "    end = today\n",
    ").df\n",
    "\n",
    "# Reorganize the DataFrame\n",
    "# Separate ticker data\n",
    "NDAQ = df_portfolio[df_portfolio['symbol']=='NDAQ'].drop('symbol', axis=1)\n",
    "\n",
    "\n",
    "# Display sample data\n",
    "df_portfolio"
   ]
  },
  {
   "cell_type": "markdown",
   "id": "0bccd855-21e1-4aca-8e09-ac5228f36a2b",
   "metadata": {},
   "source": [
    "Read in  Market Yield on U.S. Treasury Securities at 2-Year Constant Maturity, Quoted on an Investment Basis"
   ]
  },
  {
   "cell_type": "code",
   "execution_count": 170,
   "id": "532b0115-af57-4f9d-8c57-bb18bc5cb50b",
   "metadata": {},
   "outputs": [],
   "source": [
    "# Define the base request URL\n",
    "request_url = \"https://api.stlouisfed.org/fred/series/observations?series_id=DGS2&api_key=\"\n",
    "\n",
    "# Concatenate request_url and api_key. Store as new variable\n",
    "request_url = request_url + fred_api_key + \"&file_type=json\""
   ]
  },
  {
   "cell_type": "code",
   "execution_count": 218,
   "id": "9d43035d-7522-48fc-8154-fe9b458ca824",
   "metadata": {},
   "outputs": [
    {
     "ename": "IndentationError",
     "evalue": "unexpected indent (2400317892.py, line 9)",
     "output_type": "error",
     "traceback": [
      "\u001b[0;36m  File \u001b[0;32m\"/var/folders/t6/rm19hrvd4jv2_b0241jdhqm00000gn/T/ipykernel_73950/2400317892.py\"\u001b[0;36m, line \u001b[0;32m9\u001b[0m\n\u001b[0;31m    for i in range(length):\u001b[0m\n\u001b[0m    ^\u001b[0m\n\u001b[0;31mIndentationError\u001b[0m\u001b[0;31m:\u001b[0m unexpected indent\n"
     ]
    }
   ],
   "source": [
    "# Execute get request\n",
    "import json\n",
    "response_data = requests.get(request_url).json()\n",
    "print(type(response_data))\n",
    "fred_value = response_data['observations']\n",
    "length = len(fred_value)\n",
    "\n",
    "my_list= []\n",
    "    for i in range(length):\n",
    "        dates = fred_value[i]['date']\n",
    "        values = fred_value[i]['value']\n",
    "   \n"
   ]
  },
  {
   "cell_type": "code",
   "execution_count": 211,
   "id": "89aa1c2a-0572-4937-9051-844e12cf6539",
   "metadata": {},
   "outputs": [
    {
     "name": "stdout",
     "output_type": "stream",
     "text": [
      "         Date Value\n",
      "0  2022-09-26   NaN\n",
      "0         NaN  4.27\n"
     ]
    }
   ],
   "source": [
    "print(fred_df)"
   ]
  }
 ],
 "metadata": {
  "kernelspec": {
   "display_name": "Python 3 (ipykernel)",
   "language": "python",
   "name": "python3"
  },
  "language_info": {
   "codemirror_mode": {
    "name": "ipython",
    "version": 3
   },
   "file_extension": ".py",
   "mimetype": "text/x-python",
   "name": "python",
   "nbconvert_exporter": "python",
   "pygments_lexer": "ipython3",
   "version": "3.7.13"
  }
 },
 "nbformat": 4,
 "nbformat_minor": 5
}
